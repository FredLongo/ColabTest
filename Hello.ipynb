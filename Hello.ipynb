{
  "nbformat": 4,
  "nbformat_minor": 0,
  "metadata": {
    "colab": {
      "provenance": [],
      "authorship_tag": "ABX9TyMtgAYvxjv+B9/kv2kDlUIN",
      "include_colab_link": true
    },
    "kernelspec": {
      "name": "python3",
      "display_name": "Python 3"
    },
    "language_info": {
      "name": "python"
    }
  },
  "cells": [
    {
      "cell_type": "markdown",
      "metadata": {
        "id": "view-in-github",
        "colab_type": "text"
      },
      "source": [
        "<a href=\"https://colab.research.google.com/github/FredLongo/ColabTest/blob/main/Hello.ipynb\" target=\"_parent\"><img src=\"https://colab.research.google.com/assets/colab-badge.svg\" alt=\"Open In Colab\"/></a>"
      ]
    },
    {
      "cell_type": "code",
      "execution_count": 4,
      "metadata": {
        "id": "bmrN2KfFagCH"
      },
      "outputs": [],
      "source": [
        "def hello():\n",
        "  print(\"Hello to you too!\")"
      ]
    },
    {
      "cell_type": "code",
      "source": [
        "'''\n",
        "Need to download as .py\n",
        "then upload the file to content space.\n",
        "..."
      ],
      "metadata": {
        "id": "WlOKdXnZkwos"
      },
      "execution_count": null,
      "outputs": []
    },
    {
      "cell_type": "code",
      "source": [
        "#!ls"
      ],
      "metadata": {
        "id": "aJeLR-GvkZEE",
        "outputId": "16c07f14-f2dc-45ef-cede-7df20c96e14a",
        "colab": {
          "base_uri": "https://localhost:8080/"
        }
      },
      "execution_count": 5,
      "outputs": [
        {
          "output_type": "stream",
          "name": "stdout",
          "text": [
            "hello.py  sample_data\n"
          ]
        }
      ]
    },
    {
      "cell_type": "code",
      "source": [
        "#import hello"
      ],
      "metadata": {
        "id": "vXjSBCWMkgmv"
      },
      "execution_count": 6,
      "outputs": []
    },
    {
      "cell_type": "code",
      "source": [
        "#hello.hello()"
      ],
      "metadata": {
        "id": "3nojNxC3k7Lo",
        "outputId": "5ae0772c-5f10-4fab-c55e-05daf0e16128",
        "colab": {
          "base_uri": "https://localhost:8080/"
        }
      },
      "execution_count": 7,
      "outputs": [
        {
          "output_type": "stream",
          "name": "stdout",
          "text": [
            "Hello to you too!\n"
          ]
        }
      ]
    }
  ]
}